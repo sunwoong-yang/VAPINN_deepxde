{
 "cells": [
  {
   "cell_type": "code",
   "execution_count": null,
   "metadata": {
    "collapsed": true,
    "pycharm": {
     "is_executing": true
    }
   },
   "outputs": [
    {
     "name": "stdout",
     "output_type": "stream",
     "text": [
      "Warning: 5000 points required, but 5041 points sampled.\n",
      "Compiling model...\n",
      "'compile' took 0.000086 s\n",
      "\n",
      "Training model...\n",
      "\n",
      "Step      Train loss                                                                Test loss                                                                 Test metric\n",
      "0         [4.55e-02, 1.82e-01, 1.91e-01, 1.34e+00, 1.83e-01, 1.02e-01, 1.28e-01]    [4.58e-02, 1.82e-01, 1.97e-01, 1.34e+00, 1.83e-01, 1.02e-01, 1.28e-01]    []  \n",
      "100       [7.66e-04, 1.15e-04, 3.61e-03, 3.41e-02, 1.21e-04, 1.40e-01, 7.88e-05]    [6.18e-04, 1.08e-04, 3.04e-03, 3.41e-02, 1.21e-04, 1.40e-01, 7.88e-05]    []  \n",
      "200       [9.24e-04, 2.51e-04, 3.41e-03, 3.18e-02, 1.39e-04, 1.33e-01, 1.69e-04]    [7.38e-04, 2.28e-04, 2.88e-03, 3.18e-02, 1.39e-04, 1.33e-01, 1.69e-04]    []  \n",
      "300       [9.96e-04, 5.25e-04, 3.59e-03, 2.93e-02, 2.36e-04, 1.28e-01, 3.15e-04]    [7.83e-04, 4.68e-04, 3.03e-03, 2.93e-02, 2.36e-04, 1.28e-01, 3.15e-04]    []  \n",
      "400       [9.94e-04, 7.97e-04, 3.61e-03, 2.64e-02, 3.67e-04, 1.21e-01, 5.06e-04]    [7.62e-04, 7.09e-04, 3.02e-03, 2.64e-02, 3.67e-04, 1.21e-01, 5.06e-04]    []  \n",
      "500       [1.14e-03, 5.01e-04, 2.68e-03, 1.94e-02, 6.19e-04, 1.02e-01, 8.66e-04]    [7.89e-04, 4.50e-04, 2.11e-03, 1.94e-02, 6.19e-04, 1.02e-01, 8.66e-04]    []  \n",
      "600       [2.66e-03, 5.60e-04, 2.25e-03, 5.42e-03, 8.12e-04, 4.42e-02, 7.24e-04]    [2.05e-03, 5.48e-04, 1.63e-03, 5.42e-03, 8.12e-04, 4.42e-02, 7.24e-04]    []  \n",
      "700       [4.08e-03, 5.92e-04, 7.49e-04, 2.67e-03, 8.16e-04, 2.77e-02, 6.61e-04]    [3.34e-03, 5.54e-04, 6.07e-04, 2.67e-03, 8.16e-04, 2.77e-02, 6.61e-04]    []  \n",
      "800       [3.89e-03, 6.72e-04, 5.92e-04, 2.23e-03, 1.16e-03, 2.41e-02, 6.65e-04]    [3.38e-03, 6.21e-04, 5.29e-04, 2.23e-03, 1.16e-03, 2.41e-02, 6.65e-04]    []  \n",
      "900       [3.46e-03, 7.93e-04, 5.02e-04, 2.09e-03, 1.54e-03, 2.25e-02, 7.38e-04]    [3.11e-03, 7.27e-04, 4.72e-04, 2.09e-03, 1.54e-03, 2.25e-02, 7.38e-04]    []  \n",
      "1000      [3.06e-03, 9.12e-04, 4.44e-04, 1.96e-03, 1.93e-03, 2.15e-02, 8.62e-04]    [2.70e-03, 8.33e-04, 4.32e-04, 1.96e-03, 1.93e-03, 2.15e-02, 8.62e-04]    []  \n",
      "1100      [2.96e-03, 9.90e-04, 4.13e-04, 2.15e-03, 1.93e-03, 2.07e-02, 8.44e-04]    [2.90e-03, 9.00e-04, 4.04e-04, 2.15e-03, 1.93e-03, 2.07e-02, 8.44e-04]    []  \n",
      "1200      [2.71e-03, 1.04e-03, 3.85e-04, 2.17e-03, 2.07e-03, 2.03e-02, 8.89e-04]    [2.66e-03, 9.43e-04, 3.78e-04, 2.17e-03, 2.07e-03, 2.03e-02, 8.89e-04]    []  \n",
      "1300      [2.69e-03, 1.06e-03, 3.79e-04, 2.56e-03, 1.97e-03, 1.97e-02, 8.35e-04]    [2.76e-03, 9.60e-04, 3.71e-04, 2.56e-03, 1.97e-03, 1.97e-02, 8.35e-04]    []  \n",
      "1400      [2.41e-03, 1.08e-03, 3.66e-04, 2.25e-03, 2.14e-03, 1.96e-02, 9.06e-04]    [2.39e-03, 9.81e-04, 3.60e-04, 2.25e-03, 2.14e-03, 1.96e-02, 9.06e-04]    []  \n",
      "1500      [2.35e-03, 1.08e-03, 3.62e-04, 2.27e-03, 2.10e-03, 1.95e-02, 8.91e-04]    [2.34e-03, 9.85e-04, 3.55e-04, 2.27e-03, 2.10e-03, 1.95e-02, 8.91e-04]    []  \n",
      "1600      [2.20e-03, 1.07e-03, 3.55e-04, 2.31e-03, 2.13e-03, 1.93e-02, 9.11e-04]    [2.15e-03, 9.82e-04, 3.47e-04, 2.31e-03, 2.13e-03, 1.93e-02, 9.11e-04]    []  \n",
      "1700      [4.35e-03, 1.08e-03, 4.67e-04, 2.77e-03, 1.33e-03, 1.88e-02, 6.26e-04]    [4.10e-03, 9.74e-04, 4.50e-04, 2.77e-03, 1.33e-03, 1.88e-02, 6.26e-04]    []  \n",
      "1800      [2.17e-03, 1.06e-03, 3.41e-04, 2.32e-03, 2.05e-03, 1.90e-02, 8.91e-04]    [2.12e-03, 9.75e-04, 3.32e-04, 2.32e-03, 2.05e-03, 1.90e-02, 8.91e-04]    []  \n",
      "1900      [2.00e-03, 1.04e-03, 3.31e-04, 2.36e-03, 2.11e-03, 1.89e-02, 9.21e-04]    [1.92e-03, 9.57e-04, 3.19e-04, 2.36e-03, 2.11e-03, 1.89e-02, 9.21e-04]    []  \n",
      "2000      [2.10e-03, 1.04e-03, 3.21e-04, 2.33e-03, 2.02e-03, 1.88e-02, 9.00e-04]    [2.05e-03, 9.54e-04, 3.10e-04, 2.33e-03, 2.02e-03, 1.88e-02, 9.00e-04]    []  \n",
      "2100      [2.06e-03, 1.03e-03, 3.11e-04, 2.38e-03, 2.01e-03, 1.87e-02, 9.07e-04]    [2.00e-03, 9.37e-04, 3.00e-04, 2.38e-03, 2.01e-03, 1.87e-02, 9.07e-04]    []  \n",
      "2200      [2.16e-03, 1.01e-03, 3.04e-04, 2.38e-03, 1.92e-03, 1.86e-02, 8.88e-04]    [2.10e-03, 9.18e-04, 2.94e-04, 2.38e-03, 1.92e-03, 1.86e-02, 8.88e-04]    []  \n",
      "2300      [2.19e-03, 9.93e-04, 2.99e-04, 2.52e-03, 1.82e-03, 1.85e-02, 8.52e-04]    [2.12e-03, 8.96e-04, 2.90e-04, 2.52e-03, 1.82e-03, 1.85e-02, 8.52e-04]    []  \n",
      "2400      [2.02e-03, 9.87e-04, 2.89e-04, 2.33e-03, 1.94e-03, 1.85e-02, 9.12e-04]    [1.96e-03, 8.85e-04, 2.76e-04, 2.33e-03, 1.94e-03, 1.85e-02, 9.12e-04]    []  \n",
      "2500      [1.97e-03, 9.67e-04, 2.82e-04, 2.33e-03, 1.93e-03, 1.84e-02, 9.16e-04]    [1.91e-03, 8.58e-04, 2.68e-04, 2.33e-03, 1.93e-03, 1.84e-02, 9.16e-04]    []  \n",
      "2600      [1.79e-03, 9.54e-04, 3.54e-04, 1.90e-03, 2.55e-03, 1.91e-02, 1.11e-03]    [1.34e-03, 8.34e-04, 3.08e-04, 1.90e-03, 2.55e-03, 1.91e-02, 1.11e-03]    []  \n",
      "2700      [1.90e-03, 9.30e-04, 2.68e-04, 2.31e-03, 1.86e-03, 1.82e-02, 9.16e-04]    [1.85e-03, 8.03e-04, 2.51e-04, 2.31e-03, 1.86e-03, 1.82e-02, 9.16e-04]    []  \n",
      "2800      [2.85e-03, 8.96e-04, 3.01e-04, 2.52e-03, 1.36e-03, 1.80e-02, 7.83e-04]    [2.56e-03, 7.56e-04, 2.81e-04, 2.52e-03, 1.36e-03, 1.80e-02, 7.83e-04]    []  \n",
      "2900      [1.81e-03, 8.82e-04, 2.52e-04, 2.30e-03, 1.78e-03, 1.79e-02, 9.14e-04]    [1.77e-03, 7.29e-04, 2.31e-04, 2.30e-03, 1.78e-03, 1.79e-02, 9.14e-04]    []  \n",
      "3000      [2.58e-03, 8.41e-04, 2.84e-04, 2.56e-03, 1.31e-03, 1.77e-02, 7.96e-04]    [2.32e-03, 6.75e-04, 2.49e-04, 2.56e-03, 1.31e-03, 1.77e-02, 7.96e-04]    []  \n",
      "3100      [1.73e-03, 8.38e-04, 2.34e-04, 2.29e-03, 1.67e-03, 1.75e-02, 9.06e-04]    [1.70e-03, 6.52e-04, 2.10e-04, 2.29e-03, 1.67e-03, 1.75e-02, 9.06e-04]    []  \n"
     ]
    }
   ],
   "source": [
    "import deepxde as dde\n",
    "\n",
    "import numpy as np\n",
    "import torch\n",
    "\n",
    "'''\n",
    "Based on these reference codes\n",
    "[1] Lid-driven cavity problem: https://github.com/i207M/PINNacle/blob/595ab6898a30d27ac6cd44ff0a465482f8c52f5c/src/pde/ns.py\n",
    "[2] Visualization: https://github.com/lululxvi/deepxde/issues/634\n",
    "'''\n",
    "dde.config.set_random_seed(42)\n",
    "\n",
    "# PDE\n",
    "def liddriven_pde(x, u):\n",
    "    nu = 0.01\n",
    "    u_vel, v_vel, _ = u[:, [0]], u[:, [1]], u[:, [2]]\n",
    "    u_vel_x = dde.grad.jacobian(u, x, i=0, j=0)\n",
    "    u_vel_y = dde.grad.jacobian(u, x, i=0, j=1)\n",
    "    u_vel_xx = dde.grad.hessian(u, x, component=0, i=0, j=0)\n",
    "    u_vel_yy = dde.grad.hessian(u, x, component=0, i=1, j=1)\n",
    "\n",
    "    v_vel_x = dde.grad.jacobian(u, x, i=1, j=0)\n",
    "    v_vel_y = dde.grad.jacobian(u, x, i=1, j=1)\n",
    "    v_vel_xx = dde.grad.hessian(u, x, component=1, i=0, j=0)\n",
    "    v_vel_yy = dde.grad.hessian(u, x, component=1, i=1, j=1)\n",
    "\n",
    "    p_x = dde.grad.jacobian(u, x, i=2, j=0)\n",
    "    p_y = dde.grad.jacobian(u, x, i=2, j=1)\n",
    "\n",
    "    momentum_x = (u_vel * u_vel_x + v_vel * u_vel_y + p_x - nu * (u_vel_xx + u_vel_yy))\n",
    "    momentum_y = (u_vel * v_vel_x + v_vel * v_vel_y + p_y - nu * (v_vel_xx + v_vel_yy))\n",
    "    continuity = u_vel_x + v_vel_y\n",
    "\n",
    "    return [momentum_x, momentum_y, continuity]\n",
    "\n",
    "# Geometry\n",
    "bbox=[0, 1, 0, 1]\n",
    "geom = dde.geometry.Rectangle(xmin=[bbox[0], bbox[2]], xmax=[bbox[1], bbox[3]])\n",
    "\n",
    "# BC\n",
    "def boundary_top(x, on_boundary):\n",
    "    return on_boundary and np.isclose(x[1], bbox[3])\n",
    "\n",
    "def boundary_not_top(x, on_boundary):\n",
    "    return on_boundary and not np.isclose(x[1], bbox[3])\n",
    "\n",
    "bc_top_u = dde.DirichletBC(geom, (lambda _: 1), boundary_top, component=0)\n",
    "bc_top_v = dde.DirichletBC(geom, (lambda _: 0), boundary_top, component=1)\n",
    "bc_wall_u = dde.DirichletBC(geom, (lambda _: 0), boundary_not_top, component=0)\n",
    "bc_wall_v = dde.DirichletBC(geom, (lambda _: 0), boundary_not_top, component=1)\n",
    "bcs = [bc_top_u, bc_top_v, bc_wall_u, bc_wall_v]\n",
    "# bcs = [bc_wall_u, bc_wall_v]\n",
    "\n",
    "# Data\n",
    "data = dde.data.PDE(geom, liddriven_pde, bcs, num_domain=2000, num_boundary=400, num_test=5000)\n",
    "\n",
    "# Model\n",
    "layer_size = [2] + [20]*5 + [3]\n",
    "activation = 'tanh'\n",
    "initializer = 'Glorot uniform'\n",
    "net = dde.nn.FNN(layer_size, activation, initializer)\n",
    "\n",
    "# Hard-constraints\n",
    "# def output_transform(x, u):\n",
    "#     '''\n",
    "#     Hard-constraints are imposed only on the top plane\n",
    "#     : when y=1 -> u=1 & v=0\n",
    "#     '''\n",
    "#     u_x = u[:, [0]] * (x[:, [1]] - 1) + 1\n",
    "#     u_v = u[:, [1]] * (x[:, [1]] - 1)\n",
    "#     return torch.concat((u_x, u_v, u[:,[2]]), axis=1)\n",
    "#\n",
    "# net.apply_output_transform(output_transform)\n",
    "\n",
    "# Compile & Train - ADAM\n",
    "'''\n",
    "For more options: https://deepxde.readthedocs.io/en/latest/modules/deepxde.html#module-deepxde.model\n",
    "'''\n",
    "model = dde.Model(data, net)\n",
    "model.compile(\"adam\", lr=1e-3)\n",
    "losshistory, train_state = model.train(iterations = 10000, display_every = 100, model_save_path = './')\n",
    "# dde.saveplot(losshistory, train_state, issave = True, isplot = True)\n",
    "\n",
    "# Compile & Train - L-BFGS-B\n",
    "model.compile(optimizer = 'L-BFGS-B')\n",
    "losshistory, train_state = model.train(display_every = 100, model_save_path = './')"
   ]
  },
  {
   "cell_type": "code",
   "execution_count": null,
   "outputs": [],
   "source": [
    "import matplotlib.pyplot as plt\n",
    "import seaborn as sns\n",
    "x1_test = np.linspace(bbox[0], bbox[1], 101)\n",
    "x2_test = np.linspace(bbox[2], bbox[3], 102)\n",
    "X_test = np.zeros((len(x1_test)*len(x2_test), 2))\n",
    "X_test[:, 0] = np.vstack((x1_test,)*len(x2_test)).reshape(-1)\n",
    "X_test[:, 1] = np.vstack((x2_test,)*len(x1_test)).T.reshape(-1)\n",
    "# x1_indices = np.argsort(X_test, axis=0)[:,0]\n",
    "# X_test = X_test[x1_indices]\n",
    "# print(X_test[:,0])\n",
    "# Y_test = model.predict(X_test, operator=output_transform)\n",
    "Y_test = model.predict(X_test)\n",
    "\n",
    "def plot_flowfield(x, y, u, v):\n",
    "    u = u.reshape(len(x2_test), len(x1_test))\n",
    "    v = v.reshape(len(x2_test), len(x1_test))\n",
    "    fig, ax = plt.subplots(dpi=150)\n",
    "    ax.streamplot(x1_test, x2_test, u, v, density=1.5, linewidth=0.7, color='w', arrowsize=0.7, broken_streamlines=True)\n",
    "    img = ax.contourf(x1_test, x2_test, u, levels = np.linspace(-0.2, 1., 100), cmap=sns.color_palette(\"icefire\", as_cmap=True))\n",
    "    # plt.plot(boundaryNACA4D(0, 0, 12, 1, 100)[:, 0], boundaryNACA4D(0, 0, 12, 1, 100)[:, 1])\n",
    "    fig.colorbar(img)\n",
    "    fig.savefig('Lid_u.png')\n",
    "    ax.set_xlim(0,1)\n",
    "    ax.set_ylim(0,1)\n",
    "    ax.set_title(\"$U_x [m/s]$\", fontsize=13)\n",
    "    plt.show()\n",
    "\n",
    "    fig, ax = plt.subplots(dpi=150)\n",
    "    ax.streamplot(x1_test, x2_test, u, v, density=1.5, linewidth=0.7, color='w', arrowsize=0.7, broken_streamlines=True)\n",
    "    img = ax.contourf(x1_test, x2_test, v, levels = np.linspace(-0.5, .3, 100), cmap=sns.color_palette(\"icefire\", as_cmap=True))\n",
    "    # img = ax.contourf(x1_test, x2_test, v, levels = 100, cmap=sns.color_palette(\"icefire\", as_cmap=True))\n",
    "    # plt.plot(boundaryNACA4D(0, 0, 12, 1, 100)[:, 0], boundaryNACA4D(0, 0, 12, 1, 100)[:, 1])\n",
    "    fig.colorbar(img)\n",
    "    fig.savefig('Lid_v.png')\n",
    "    ax.set_xlim(0,1)\n",
    "    ax.set_ylim(0,1)\n",
    "    ax.set_title(\"$U_y [m/s]$\", fontsize=13)\n",
    "    plt.show()\n",
    "\n",
    "plot_flowfield(x=X_test[:, 0], y=X_test[:, 1], u=Y_test[:,0], v=Y_test[:,1])"
   ],
   "metadata": {
    "collapsed": false,
    "pycharm": {
     "is_executing": true
    }
   }
  },
  {
   "cell_type": "code",
   "execution_count": 23,
   "outputs": [
    {
     "name": "stdout",
     "output_type": "stream",
     "text": [
      "[[ 0.7906272  -0.11229286 -0.28368402]\n",
      " [ 0.85020065 -0.07768084 -0.18926184]\n",
      " [ 0.8955242  -0.05165213 -0.11753107]\n",
      " [ 0.92940235 -0.0324497  -0.06334058]\n",
      " [ 0.95474666 -0.01857872 -0.02203839]\n",
      " [ 0.97381234 -0.00875865  0.00989312]\n",
      " [ 0.98816824 -0.00193555  0.03493791]\n",
      " [ 0.9988873   0.00272027  0.05482296]\n",
      " [ 1.0067251   0.00583766  0.07076036]\n",
      " [ 1.0122503   0.00788041  0.08362092]]\n",
      "[[0.01462545 0.00810858 0.1476489 ]\n",
      " [0.01481917 0.00794186 0.14764692]\n",
      " [0.01500633 0.00777599 0.14764205]\n",
      " [0.01518712 0.00761071 0.14763409]\n",
      " [0.01536125 0.00744593 0.14762335]\n",
      " [0.01552871 0.00728139 0.14760938]\n",
      " [0.01568962 0.00711701 0.14759226]\n",
      " [0.01584344 0.00695233 0.14757188]\n",
      " [0.01599053 0.00678782 0.14754821]\n",
      " [0.0161309  0.00662262 0.14752136]]\n"
     ]
    }
   ],
   "source": [
    "temp = np.concatenate((np.linspace(bbox[0], bbox[1], 101).reshape(-1,1),np.ones((101,1))),axis=1)\n",
    "temp = torch.tensor(temp)\n",
    "# y_temp = model.predict(temp.cpu(), operator=output_transform)\n",
    "y_temp = model.predict(temp.cpu())\n",
    "print(y_temp[:10])\n",
    "\n",
    "temp = np.concatenate((np.zeros((101,1)), np.linspace(bbox[0], bbox[1], 101).reshape(-1,1)),axis=1)\n",
    "temp = torch.tensor(temp)\n",
    "# y_temp = model.predict(temp.cpu(), operator=output_transform)\n",
    "y_temp = model.predict(temp.cpu())\n",
    "print(y_temp[:10])"
   ],
   "metadata": {
    "collapsed": false
   }
  },
  {
   "cell_type": "code",
   "execution_count": 26,
   "outputs": [
    {
     "name": "stdout",
     "output_type": "stream",
     "text": [
      "(10201,)\n"
     ]
    }
   ],
   "source": [
    "print(Y_test[:,1].shape)"
   ],
   "metadata": {
    "collapsed": false
   }
  },
  {
   "cell_type": "code",
   "execution_count": null,
   "outputs": [],
   "source": [
    "\n"
   ],
   "metadata": {
    "collapsed": false
   }
  }
 ],
 "metadata": {
  "kernelspec": {
   "display_name": "Python 3",
   "language": "python",
   "name": "python3"
  },
  "language_info": {
   "codemirror_mode": {
    "name": "ipython",
    "version": 2
   },
   "file_extension": ".py",
   "mimetype": "text/x-python",
   "name": "python",
   "nbconvert_exporter": "python",
   "pygments_lexer": "ipython2",
   "version": "2.7.6"
  }
 },
 "nbformat": 4,
 "nbformat_minor": 0
}
